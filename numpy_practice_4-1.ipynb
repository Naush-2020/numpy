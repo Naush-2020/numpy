{
 "cells": [
  {
   "cell_type": "markdown",
   "metadata": {
    "id": "ekpWp-ZCpBVH"
   },
   "source": [
    "**Importing Numpy**"
   ]
  },
  {
   "cell_type": "code",
   "execution_count": 1,
   "metadata": {
    "id": "ghhtH11moj2Z"
   },
   "outputs": [],
   "source": [
    "import numpy as np  "
   ]
  },
  {
   "cell_type": "markdown",
   "metadata": {
    "id": "PfcJcxuAo6JT"
   },
   "source": [
    "**Creating Numpy Arrays**\n"
   ]
  },
  {
   "cell_type": "code",
   "execution_count": 13,
   "metadata": {
    "id": "aHoiqYDFo-k-"
   },
   "outputs": [],
   "source": [
    "arr1d = np.array([1, 2, 3 , 4])     #1D array, can pass list too\n",
    "arr2d = np.array([[1,2],[3,4]])     #2D array, can pass list too"
   ]
  },
  {
   "cell_type": "code",
   "execution_count": 14,
   "metadata": {
    "id": "bAn6YVI12Ctc"
   },
   "outputs": [],
   "source": [
    "d1 = np.arange(10)                  #0-9 1D array\n",
    "d2 = np.arange(10).reshape((2,5))   #0-9 2D array, rows & columns should be given accordingly\n",
    "d3 = np.arange(0,10,1, dtype=np.int64) # can given start, end and step, end will not be included"
   ]
  },
  {
   "cell_type": "code",
   "execution_count": 15,
   "metadata": {
    "id": "sq4Eionn2CAN"
   },
   "outputs": [],
   "source": [
    "r1 = np.random.randn(2)             #random numbers, 2 elements numpy array\n",
    "r2 = np.random.randn(2,2)           # 2*2 numpy array of random numbers"
   ]
  },
  {
   "cell_type": "code",
   "execution_count": 16,
   "metadata": {},
   "outputs": [
    {
     "name": "stdout",
     "output_type": "stream",
     "text": [
      "[1. 1. 1. 1. 1.]\n",
      "[0. 0. 0. 0. 0.]\n",
      "[0. 0. 0. 0. 0.]\n"
     ]
    }
   ],
   "source": [
    "n1 = np.ones(5)                    \n",
    "n2 = np.zeros(5)\n",
    "n3 = np.empty(5)                    #might return zero or garbage values\n",
    "\n",
    "print(n1)\n",
    "print(n2)\n",
    "print(n3)\n",
    "\n",
    "#you can reshape any numpy array different dimensions as long as given dimensions are valid\n"
   ]
  },
  {
   "cell_type": "code",
   "execution_count": 26,
   "metadata": {},
   "outputs": [
    {
     "data": {
      "text/plain": [
       "array([[1., 0.],\n",
       "       [0., 1.]])"
      ]
     },
     "execution_count": 26,
     "metadata": {},
     "output_type": "execute_result"
    }
   ],
   "source": [
    "i1 = np.identity(2)               #identity matrix of n*n with 1's in diagonal and zeros elsewhere.\n",
    "i1"
   ]
  },
  {
   "cell_type": "code",
   "execution_count": null,
   "metadata": {},
   "outputs": [],
   "source": [
    "#other numpy functions:\n",
    "\n",
    "#np.asarray: when you don't want to copy if input is already a numpy array\n",
    "#ones_like: takes an array and uses its dimensions/shape to produces another array of ones\n",
    "#zeros_like: takes an array and uses its dimensions/shape to produces another array of zeros\n",
    "#empty_like: same like empty, both are used to allocate memory\n",
    "#full & full_like: use it if you want to specify a value with which numpy array should be filled\n",
    "#np.eye: same like np.identity"
   ]
  },
  {
   "cell_type": "markdown",
   "metadata": {
    "id": "1WMjNkeQ0AHB"
   },
   "source": [
    "**Checking Shape & Type of a ndarray**"
   ]
  },
  {
   "cell_type": "code",
   "execution_count": 17,
   "metadata": {
    "colab": {
     "base_uri": "https://localhost:8080/"
    },
    "id": "4y5nGVZmz-zt",
    "outputId": "02f065b1-941c-4448-b118-f19b100da43d"
   },
   "outputs": [
    {
     "name": "stdout",
     "output_type": "stream",
     "text": [
      "(2, 2)\n",
      "int32\n",
      "2\n",
      "(10,)\n",
      "int32\n",
      "1\n"
     ]
    }
   ],
   "source": [
    "print(arr2d.shape)                  #how many rows/columns\n",
    "print(arr2d.dtype)                  #default datatype :float64, you can explicilty assign type while creating a numpy array\n",
    "print(arr2d.ndim)                   #dimensions\n",
    "\n",
    "print(d1.shape)\n",
    "print(d1.dtype)                  \n",
    "print(d1.ndim)"
   ]
  },
  {
   "cell_type": "code",
   "execution_count": 19,
   "metadata": {},
   "outputs": [
    {
     "name": "stdout",
     "output_type": "stream",
     "text": [
      "[[[1 1]\n",
      "  [1 1]\n",
      "  [1 1]]\n",
      "\n",
      " [[1 1]\n",
      "  [1 1]\n",
      "  [1 1]]]\n",
      "(2, 3, 2)\n",
      "int32\n",
      "3\n"
     ]
    }
   ],
   "source": [
    "n4 = np.ones((2,3,2), dtype=np.int32)\n",
    "print(n4)\n",
    "print(n4.shape)\n",
    "print(n4.dtype)                  \n",
    "print(n4.ndim)\n"
   ]
  },
  {
   "cell_type": "markdown",
   "metadata": {},
   "source": [
    "**Numpy Datatypes and Changing typing**\n",
    "#signed int: int8, int16, int32, int64\n",
    "#usigned int: uint8, uint16, uint32, uint64\n",
    "#float: float16, float32, float64, float128\n",
    "#complex: complex64, complex128, complex, 256\n",
    "#bool: True/False\n",
    "#string_, object, unicode_\n",
    "\n",
    "#you can use typecodes (should be places inside quotes) too (book 91-Table 4.2)"
   ]
  },
  {
   "cell_type": "code",
   "execution_count": 27,
   "metadata": {},
   "outputs": [
    {
     "data": {
      "text/plain": [
       "array([[[1., 1.],\n",
       "        [1., 1.],\n",
       "        [1., 1.]],\n",
       "\n",
       "       [[1., 1.],\n",
       "        [1., 1.],\n",
       "        [1., 1.]]], dtype=float32)"
      ]
     },
     "execution_count": 27,
     "metadata": {},
     "output_type": "execute_result"
    }
   ],
   "source": [
    "n4 = n4.astype(np.float32)\n",
    "n4\n"
   ]
  },
  {
   "cell_type": "code",
   "execution_count": 28,
   "metadata": {},
   "outputs": [
    {
     "data": {
      "text/plain": [
       "array([[1., 2.],\n",
       "       [3., 4.]], dtype=float32)"
      ]
     },
     "execution_count": 28,
     "metadata": {},
     "output_type": "execute_result"
    }
   ],
   "source": [
    "arr2d = arr2d.astype(n4.dtype)          #can also give type of another array\n",
    "arr2d"
   ]
  },
  {
   "cell_type": "code",
   "execution_count": 31,
   "metadata": {},
   "outputs": [
    {
     "name": "stdout",
     "output_type": "stream",
     "text": [
      "[b'6' b'5' b'-1.2']\n",
      "[ 6.   5.  -1.2]\n"
     ]
    }
   ],
   "source": [
    "#if you convert float to int, decimal part is truncated\n",
    "#string to float: if string contains alphabets, error generated \n",
    "test = np.array(['6','5','-1.2'],dtype=np.string_)\n",
    "print(test)\n",
    "test = test.astype(np.float32)\n",
    "print(test)"
   ]
  },
  {
   "cell_type": "markdown",
   "metadata": {},
   "source": [
    "**Arithmetic with numpy Arrays**\n",
    "+,-,*, 1/narray, ** (exponent), a > b, a < b, a == b, a!=b\n",
    "Certain operations generate error if dimensions mismatch.\n",
    "Operation between different sized arrays is called Broadcasting"
   ]
  },
  {
   "cell_type": "code",
   "execution_count": 34,
   "metadata": {},
   "outputs": [
    {
     "name": "stdout",
     "output_type": "stream",
     "text": [
      "[ 7  9 11 13]\n",
      "[5 5 5 5]\n",
      "[1.         0.5        0.33333333 0.25      ]\n",
      "[ 1  4  9 16]\n",
      "[False False False False]\n",
      "[ True  True  True  True]\n",
      "[False False False False]\n",
      "[ True  True  True  True]\n"
     ]
    }
   ],
   "source": [
    "a1 = np.array([1,2,3,4])\n",
    "a2 = np.array([6,7,8,9])\n",
    "\n",
    "print(a1+a2)\n",
    "print(a2-a1)\n",
    "print(1/a1)\n",
    "print(a1**2)\n",
    "print(a1>a2)\n",
    "print(a1<a2)\n",
    "print(a1==a2)\n",
    "print(a1!=a2)"
   ]
  },
  {
   "cell_type": "markdown",
   "metadata": {},
   "source": [
    "**Indexing & Slicing**\n",
    "\n",
    "Term: rows/columns OR axis0/axis1\n",
    "\n",
    "For 1d numpy array:\n",
    "1. start:end --- end not included. E.g. arr[5:8] means element at position 5 to 7, you can get/set value (View)\n",
    "2. [:] -- to get all values\n",
    "3. to get a copy you can write arr[5:8].copy()\n",
    "\n",
    "For 2d array:\n",
    "4. arr2d[0][2] or you can write arr2d[0,2]\n",
    "\n",
    "Boolean Indexing:\n",
    "5. you can a condition inside [] to get repective values\n",
    "Example:\n",
    "data[data>0]\n",
    "data[data<0]\n",
    "data[data==0]\n",
    "data[data!=0]\n",
    "data[(data>2) & (data<5)]\n",
    "Remember for multiple conditions, brackets must be placed. Also, for boolean indexing, & operator cannot be replaced by 'and'.\n",
    "\n",
    "6. If you write data>2 only: you will get resultant array as True/False\n",
    "7. Negative indices selects from backward.\n",
    "8. Fancy Indexing: specify the column no. inside [] to get the desired rows in a particular order\n",
    "9. Slicing/Indexing works on orignal array whereas fancy indexing gives copy of array"
   ]
  },
  {
   "cell_type": "code",
   "execution_count": 36,
   "metadata": {},
   "outputs": [
    {
     "data": {
      "text/plain": [
       "array([[1., 2.]], dtype=float32)"
      ]
     },
     "execution_count": 36,
     "metadata": {},
     "output_type": "execute_result"
    }
   ],
   "source": [
    "arr2d[:1]                                  "
   ]
  },
  {
   "cell_type": "code",
   "execution_count": 37,
   "metadata": {},
   "outputs": [
    {
     "data": {
      "text/plain": [
       "array([[1.]], dtype=float32)"
      ]
     },
     "execution_count": 37,
     "metadata": {},
     "output_type": "execute_result"
    }
   ],
   "source": [
    "arr2d[:1,:1]"
   ]
  },
  {
   "cell_type": "code",
   "execution_count": 52,
   "metadata": {},
   "outputs": [
    {
     "name": "stdout",
     "output_type": "stream",
     "text": [
      "['Bob' 'Joe' 'Will' 'Bob' 'Will' 'Joe' 'Joe']\n",
      "[[ 0  1  2  3]\n",
      " [ 4  5  6  7]\n",
      " [ 8  9 10 11]\n",
      " [12 13 14 15]\n",
      " [16 17 18 19]\n",
      " [20 21 22 23]\n",
      " [24 25 26 27]]\n"
     ]
    }
   ],
   "source": [
    "#Boolean Indexing Example:\n",
    "names = np.array(['Bob', 'Joe','Will', 'Bob', 'Will', 'Joe', 'Joe'])\n",
    "data = np.arange(0,28).reshape(7,4)\n",
    "print(names)\n",
    "print(data)\n"
   ]
  },
  {
   "cell_type": "code",
   "execution_count": 53,
   "metadata": {},
   "outputs": [
    {
     "data": {
      "text/plain": [
       "array([[ 0,  1,  2,  3],\n",
       "       [12, 13, 14, 15]])"
      ]
     },
     "execution_count": 53,
     "metadata": {},
     "output_type": "execute_result"
    }
   ],
   "source": [
    "cond = names == 'Bob'\n",
    "data[cond]                     #alternate: data[names == 'Bob']"
   ]
  },
  {
   "cell_type": "code",
   "execution_count": 54,
   "metadata": {},
   "outputs": [
    {
     "data": {
      "text/plain": [
       "array([[ 4,  5,  6,  7],\n",
       "       [ 8,  9, 10, 11],\n",
       "       [16, 17, 18, 19],\n",
       "       [20, 21, 22, 23],\n",
       "       [24, 25, 26, 27]])"
      ]
     },
     "execution_count": 54,
     "metadata": {},
     "output_type": "execute_result"
    }
   ],
   "source": [
    "#so it returns entire row corresponding the satisfied condition \n",
    "data[~(cond)]                 #alternate: data[names != 'Bob']"
   ]
  },
  {
   "cell_type": "code",
   "execution_count": 58,
   "metadata": {},
   "outputs": [
    {
     "data": {
      "text/plain": [
       "array([[ 4,  5],\n",
       "       [ 8,  9],\n",
       "       [16, 17],\n",
       "       [20, 21],\n",
       "       [24, 25]])"
      ]
     },
     "execution_count": 58,
     "metadata": {},
     "output_type": "execute_result"
    }
   ],
   "source": [
    "#you can choose column too\n",
    "data[~(cond),:2]   "
   ]
  },
  {
   "cell_type": "code",
   "execution_count": 56,
   "metadata": {},
   "outputs": [
    {
     "data": {
      "text/plain": [
       "array(['Bob', 'Bob'], dtype='<U4')"
      ]
     },
     "execution_count": 56,
     "metadata": {},
     "output_type": "execute_result"
    }
   ],
   "source": [
    "#if condition applied on same array, it returns True/False\n",
    "names[names=='Bob']"
   ]
  },
  {
   "cell_type": "code",
   "execution_count": 57,
   "metadata": {},
   "outputs": [
    {
     "data": {
      "text/plain": [
       "array([ True, False, False,  True, False, False, False])"
      ]
     },
     "execution_count": 57,
     "metadata": {},
     "output_type": "execute_result"
    }
   ],
   "source": [
    "names=='Bob'"
   ]
  },
  {
   "cell_type": "code",
   "execution_count": 60,
   "metadata": {},
   "outputs": [
    {
     "data": {
      "text/plain": [
       "array([[ 0,  1,  2,  3],\n",
       "       [ 8,  9, 10, 11],\n",
       "       [12, 13, 14, 15],\n",
       "       [16, 17, 18, 19]])"
      ]
     },
     "execution_count": 60,
     "metadata": {},
     "output_type": "execute_result"
    }
   ],
   "source": [
    "mask = (names=='Bob') | (names=='Will')\n",
    "data[mask]"
   ]
  },
  {
   "cell_type": "code",
   "execution_count": 61,
   "metadata": {},
   "outputs": [
    {
     "data": {
      "text/plain": [
       "array([], shape=(0, 4), dtype=int32)"
      ]
     },
     "execution_count": 61,
     "metadata": {},
     "output_type": "execute_result"
    }
   ],
   "source": [
    "mask2 = (names=='Bob') & (names=='Will')\n",
    "data[mask2]"
   ]
  },
  {
   "cell_type": "code",
   "execution_count": 62,
   "metadata": {},
   "outputs": [
    {
     "data": {
      "text/plain": [
       "array([[ 4,  5,  6,  7],\n",
       "       [12, 13, 14, 15],\n",
       "       [16, 17, 18, 19]])"
      ]
     },
     "execution_count": 62,
     "metadata": {},
     "output_type": "execute_result"
    }
   ],
   "source": [
    "#Fancy indexing:\n",
    "data[[1,3,4]]"
   ]
  },
  {
   "cell_type": "code",
   "execution_count": 63,
   "metadata": {},
   "outputs": [
    {
     "data": {
      "text/plain": [
       "array([ 5, 12, 19])"
      ]
     },
     "execution_count": 63,
     "metadata": {},
     "output_type": "execute_result"
    }
   ],
   "source": [
    "data[[1,3,4],[1,0,3]]       #selective rows, from each row selective column     "
   ]
  },
  {
   "cell_type": "code",
   "execution_count": 66,
   "metadata": {},
   "outputs": [
    {
     "data": {
      "text/plain": [
       "array([[ 5,  4,  7,  6],\n",
       "       [13, 12, 15, 14],\n",
       "       [17, 16, 19, 18]])"
      ]
     },
     "execution_count": 66,
     "metadata": {},
     "output_type": "execute_result"
    }
   ],
   "source": [
    "data[[1,3,4]][:,[1,0,3,2]]  #no comma in b/w, "
   ]
  },
  {
   "cell_type": "code",
   "execution_count": 67,
   "metadata": {},
   "outputs": [
    {
     "data": {
      "text/plain": [
       "array([[ 0,  4,  8, 12, 16, 20, 24],\n",
       "       [ 1,  5,  9, 13, 17, 21, 25],\n",
       "       [ 2,  6, 10, 14, 18, 22, 26],\n",
       "       [ 3,  7, 11, 15, 19, 23, 27]])"
      ]
     },
     "execution_count": 67,
     "metadata": {},
     "output_type": "execute_result"
    }
   ],
   "source": [
    "#swap_axes: to swap mentioned axes, returns a view not a copy\n",
    "data.swapaxes(0,1)  #original shape:(7,4), after swap it becomes (4,7)\n"
   ]
  },
  {
   "cell_type": "code",
   "execution_count": 68,
   "metadata": {},
   "outputs": [
    {
     "data": {
      "text/plain": [
       "array([[ 0,  4,  8, 12, 16, 20, 24],\n",
       "       [ 1,  5,  9, 13, 17, 21, 25],\n",
       "       [ 2,  6, 10, 14, 18, 22, 26],\n",
       "       [ 3,  7, 11, 15, 19, 23, 27]])"
      ]
     },
     "execution_count": 68,
     "metadata": {},
     "output_type": "execute_result"
    }
   ],
   "source": [
    "data.T            #swap all axes"
   ]
  },
  {
   "cell_type": "code",
   "execution_count": 74,
   "metadata": {},
   "outputs": [
    {
     "data": {
      "text/plain": [
       "array([[ 0,  4,  8, 12, 16, 20, 24],\n",
       "       [ 1,  5,  9, 13, 17, 21, 25],\n",
       "       [ 2,  6, 10, 14, 18, 22, 26],\n",
       "       [ 3,  7, 11, 15, 19, 23, 27]])"
      ]
     },
     "execution_count": 74,
     "metadata": {},
     "output_type": "execute_result"
    }
   ],
   "source": [
    "data.transpose()"
   ]
  },
  {
   "cell_type": "code",
   "execution_count": 77,
   "metadata": {},
   "outputs": [
    {
     "data": {
      "text/plain": [
       "array([[ 0,  1,  2,  3],\n",
       "       [ 4,  5,  6,  7],\n",
       "       [ 8,  9, 10, 11],\n",
       "       [12, 13, 14, 15],\n",
       "       [16, 17, 18, 19],\n",
       "       [20, 21, 22, 23],\n",
       "       [24, 25, 26, 27]])"
      ]
     },
     "execution_count": 77,
     "metadata": {},
     "output_type": "execute_result"
    }
   ],
   "source": [
    "data.transpose((0,1))    #0 & 1 means axes"
   ]
  },
  {
   "cell_type": "code",
   "execution_count": 78,
   "metadata": {},
   "outputs": [
    {
     "data": {
      "text/plain": [
       "array([[ 0,  4,  8, 12, 16, 20, 24],\n",
       "       [ 1,  5,  9, 13, 17, 21, 25],\n",
       "       [ 2,  6, 10, 14, 18, 22, 26],\n",
       "       [ 3,  7, 11, 15, 19, 23, 27]])"
      ]
     },
     "execution_count": 78,
     "metadata": {},
     "output_type": "execute_result"
    }
   ],
   "source": [
    "data.transpose((1,0)) "
   ]
  },
  {
   "cell_type": "code",
   "execution_count": 69,
   "metadata": {},
   "outputs": [
    {
     "data": {
      "text/plain": [
       "array([[1456, 1540, 1624, 1708],\n",
       "       [1540, 1631, 1722, 1813],\n",
       "       [1624, 1722, 1820, 1918],\n",
       "       [1708, 1813, 1918, 2023]])"
      ]
     },
     "execution_count": 69,
     "metadata": {},
     "output_type": "execute_result"
    }
   ],
   "source": [
    "#dot product\n",
    "np.dot(data.T, data)  "
   ]
  },
  {
   "cell_type": "code",
   "execution_count": 70,
   "metadata": {},
   "outputs": [
    {
     "data": {
      "text/plain": [
       "array([[  14,   38,   62,   86,  110,  134,  158],\n",
       "       [  38,  126,  214,  302,  390,  478,  566],\n",
       "       [  62,  214,  366,  518,  670,  822,  974],\n",
       "       [  86,  302,  518,  734,  950, 1166, 1382],\n",
       "       [ 110,  390,  670,  950, 1230, 1510, 1790],\n",
       "       [ 134,  478,  822, 1166, 1510, 1854, 2198],\n",
       "       [ 158,  566,  974, 1382, 1790, 2198, 2606]])"
      ]
     },
     "execution_count": 70,
     "metadata": {},
     "output_type": "execute_result"
    }
   ],
   "source": [
    "np.dot(data, data.T)"
   ]
  }
 ],
 "metadata": {
  "colab": {
   "collapsed_sections": [],
   "name": "numpy_practice.ipynb",
   "provenance": []
  },
  "kernelspec": {
   "display_name": "Python 3",
   "language": "python",
   "name": "python3"
  },
  "language_info": {
   "codemirror_mode": {
    "name": "ipython",
    "version": 3
   },
   "file_extension": ".py",
   "mimetype": "text/x-python",
   "name": "python",
   "nbconvert_exporter": "python",
   "pygments_lexer": "ipython3",
   "version": "3.7.0"
  }
 },
 "nbformat": 4,
 "nbformat_minor": 1
}
