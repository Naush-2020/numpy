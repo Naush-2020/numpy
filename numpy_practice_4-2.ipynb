{
 "cells": [
  {
   "cell_type": "markdown",
   "metadata": {},
   "source": [
    "**Unary ufunc (Universal Functions)**\n",
    "If you want to update the original array, while calling function, also pass original array as second parameter\n",
    "Example: np.sqrt(arr,arr) --> will modify te original array too"
   ]
  },
  {
   "cell_type": "code",
   "execution_count": 2,
   "metadata": {},
   "outputs": [],
   "source": [
    "import numpy as np"
   ]
  },
  {
   "cell_type": "code",
   "execution_count": 8,
   "metadata": {},
   "outputs": [
    {
     "data": {
      "text/plain": [
       "array([1, 1, 2, 3])"
      ]
     },
     "execution_count": 8,
     "metadata": {},
     "output_type": "execute_result"
    }
   ],
   "source": [
    "#1. abs, fabs: fabs always return floating point value\n",
    "x = np.array([-1, 1, 2, -3])\n",
    "temp = np.abs(x)\n",
    "temp"
   ]
  },
  {
   "cell_type": "code",
   "execution_count": 9,
   "metadata": {},
   "outputs": [
    {
     "data": {
      "text/plain": [
       "array([1.        , 1.        , 1.41421356, 1.73205081])"
      ]
     },
     "execution_count": 9,
     "metadata": {},
     "output_type": "execute_result"
    }
   ],
   "source": [
    "#2. sqrt\n",
    "np.sqrt(temp)           #sqrt for -ve values give error and corresponding value becomes nan"
   ]
  },
  {
   "cell_type": "code",
   "execution_count": 10,
   "metadata": {},
   "outputs": [
    {
     "data": {
      "text/plain": [
       "array([ 1,  4,  9, 16], dtype=int32)"
      ]
     },
     "execution_count": 10,
     "metadata": {},
     "output_type": "execute_result"
    }
   ],
   "source": [
    "#3. square\n",
    "y = np.array([1, 2, 3, 4])\n",
    "np.square(y)"
   ]
  },
  {
   "cell_type": "code",
   "execution_count": 11,
   "metadata": {},
   "outputs": [
    {
     "data": {
      "text/plain": [
       "array([ 2.71828183,  7.3890561 , 20.08553692, 54.59815003])"
      ]
     },
     "execution_count": 11,
     "metadata": {},
     "output_type": "execute_result"
    }
   ],
   "source": [
    "#4. exp\n",
    "np.exp(y)"
   ]
  },
  {
   "cell_type": "code",
   "execution_count": 15,
   "metadata": {},
   "outputs": [
    {
     "name": "stdout",
     "output_type": "stream",
     "text": [
      "[0.         0.69314718 1.09861229 1.38629436]\n",
      "[0.         0.30103    0.47712125 0.60205999]\n",
      "[0.        1.        1.5849625 2.       ]\n",
      "[0.69314718 1.09861229 1.38629436 1.60943791]\n"
     ]
    }
   ],
   "source": [
    "#5. log, log10, log2, log1p\n",
    "print(np.log(y))\n",
    "print(np.log10(y))\n",
    "print(np.log2(y))\n",
    "print(np.log1p(y))"
   ]
  },
  {
   "cell_type": "code",
   "execution_count": 16,
   "metadata": {},
   "outputs": [
    {
     "data": {
      "text/plain": [
       "array([-1,  1,  1, -1])"
      ]
     },
     "execution_count": 16,
     "metadata": {},
     "output_type": "execute_result"
    }
   ],
   "source": [
    "#6. sign\n",
    "np.sign(x)   #original array [-1,1,2,-3], so it replaces -ve no. with -1 & +ve no. with +1"
   ]
  },
  {
   "cell_type": "code",
   "execution_count": 18,
   "metadata": {},
   "outputs": [
    {
     "name": "stdout",
     "output_type": "stream",
     "text": [
      "[2. 3. 4. 5.]\n",
      "[1. 2. 3. 4.]\n",
      "[1. 2. 4. 4.]\n"
     ]
    }
   ],
   "source": [
    "#7. ceil, floor, rint\n",
    "z = np.array([1.3, 2.5, 3.8, 4.2])\n",
    "print(np.ceil(z))\n",
    "print(np.floor(z))\n",
    "print(np.rint(z)) "
   ]
  },
  {
   "cell_type": "code",
   "execution_count": 19,
   "metadata": {},
   "outputs": [
    {
     "data": {
      "text/plain": [
       "(array([0.3, 0.5, 0.8, 0.2]), array([1., 2., 3., 4.]))"
      ]
     },
     "execution_count": 19,
     "metadata": {},
     "output_type": "execute_result"
    }
   ],
   "source": [
    "#8. modf. Returns 2 arrays as output, first is remainder and second is whole_part\n",
    "np.modf(z)\n",
    "#can also write: remainder, whole_part = np.modf(z)"
   ]
  },
  {
   "cell_type": "code",
   "execution_count": 24,
   "metadata": {},
   "outputs": [
    {
     "name": "stdout",
     "output_type": "stream",
     "text": [
      "[       nan 1.         3.14159265        inf        inf]\n",
      "[ True False False False False]\n",
      "[False  True  True False False]\n",
      "[False False False  True  True]\n"
     ]
    }
   ],
   "source": [
    "#9. isnan, isfinite, isinf\n",
    "import math\n",
    "arr = np.array([float('NaN'), 1, math.pi, float('inf'), math.inf])\n",
    "print(arr)\n",
    "print(np.isnan(arr))\n",
    "print(np.isfinite(arr))\n",
    "print(np.isinf(arr))\n",
    "#showing math.pi as finite!\n",
    "#also, nan is neither finite nor infinite"
   ]
  },
  {
   "cell_type": "code",
   "execution_count": 31,
   "metadata": {},
   "outputs": [
    {
     "name": "stdout",
     "output_type": "stream",
     "text": [
      "[ 0.84147098  0.90929743  0.14112001 -0.7568025 ]\n",
      "[ 1.17520119  3.62686041 10.01787493 27.2899172 ]\n",
      "[ 0.54030231 -0.41614684 -0.9899925  -0.65364362]\n",
      "[ 1.54308063  3.76219569 10.067662   27.30823284]\n",
      "[ 1.55740772 -2.18503986 -0.14254654  1.15782128]\n",
      "[0.76159416 0.96402758 0.99505475 0.9993293 ]\n"
     ]
    }
   ],
   "source": [
    "#10: Regular & Hyperbolic trignometic functions: cos, cosh, sin, sinh, tan, tanh\n",
    "print(np.sin(y))\n",
    "print(np.sinh(y))\n",
    "\n",
    "print(np.cos(y))\n",
    "print(np.cosh(y))\n",
    "\n",
    "print(np.tan(y))\n",
    "print(np.tanh(y))"
   ]
  },
  {
   "cell_type": "code",
   "execution_count": 34,
   "metadata": {},
   "outputs": [
    {
     "name": "stdout",
     "output_type": "stream",
     "text": [
      "[ 1.57079633 -1.57079633]\n",
      "[ 0.88137359 -0.88137359]\n",
      "[0.         3.14159265]\n",
      "[ 0. nan]\n",
      "[ 0.78539816 -0.78539816]\n",
      "[ inf -inf]\n"
     ]
    },
    {
     "name": "stderr",
     "output_type": "stream",
     "text": [
      "C:\\ProgramData\\Anaconda3\\lib\\site-packages\\ipykernel_launcher.py:7: RuntimeWarning: invalid value encountered in arccosh\n",
      "  import sys\n",
      "C:\\ProgramData\\Anaconda3\\lib\\site-packages\\ipykernel_launcher.py:10: RuntimeWarning: divide by zero encountered in arctanh\n",
      "  # Remove the CWD from sys.path while we load stuff.\n"
     ]
    }
   ],
   "source": [
    "#11: Inverse trignometic functions: arccos. arccosh, arcsin, arcsinh, arctan, arctanh\n",
    "\n",
    "print(np.arcsin([1,-1]))\n",
    "print(np.arcsinh([1,-1]))\n",
    "\n",
    "print(np.arccos([1,-1]))\n",
    "print(np.arccosh([1,-1]))\n",
    "\n",
    "print(np.arctan([1,-1]))\n",
    "print(np.arctanh([1,-1]))\n"
   ]
  },
  {
   "cell_type": "code",
   "execution_count": 29,
   "metadata": {},
   "outputs": [
    {
     "name": "stdout",
     "output_type": "stream",
     "text": [
      "[-1  1  2 -3]\n",
      "[False  True  True False]\n"
     ]
    }
   ],
   "source": [
    "#12: Logical_not \n",
    "print(x)\n",
    "print(np.logical_not(x<0))\n"
   ]
  },
  {
   "cell_type": "markdown",
   "metadata": {},
   "source": [
    "**Binary ufunc**"
   ]
  },
  {
   "cell_type": "code",
   "execution_count": 35,
   "metadata": {},
   "outputs": [
    {
     "name": "stdout",
     "output_type": "stream",
     "text": [
      "[0 3 5 1]\n",
      "[-2 -1 -1 -7]\n"
     ]
    }
   ],
   "source": [
    "#1. add, subtract\n",
    "\n",
    "print(np.add(x,y))\n",
    "print(np.subtract(x,y))\n"
   ]
  },
  {
   "cell_type": "code",
   "execution_count": 36,
   "metadata": {},
   "outputs": [
    {
     "name": "stdout",
     "output_type": "stream",
     "text": [
      "[ -1   2   6 -12]\n",
      "[-1.          0.5         0.66666667 -0.75      ]\n",
      "[-1  0  0 -1]\n"
     ]
    }
   ],
   "source": [
    "#2. multiply, divide, floor_divide\n",
    "\n",
    "print(np.multiply(x,y))\n",
    "print(np.divide(x,y))\n",
    "print(np.floor_divide(x,y)) #will automatically adjust value to best type\n"
   ]
  },
  {
   "cell_type": "code",
   "execution_count": 37,
   "metadata": {},
   "outputs": [
    {
     "name": "stdout",
     "output_type": "stream",
     "text": [
      "[-1  1  8 81]\n"
     ]
    }
   ],
   "source": [
    "#3. power\n",
    "print(np.power(x,y))"
   ]
  },
  {
   "cell_type": "code",
   "execution_count": 38,
   "metadata": {},
   "outputs": [
    {
     "name": "stdout",
     "output_type": "stream",
     "text": [
      "[1 2 3 4]\n",
      "[-1  1  2 -3]\n"
     ]
    }
   ],
   "source": [
    "#4. maximum, fmax, minimum, fmin. fmax & fmin ignores nan\n",
    "\n",
    "print(np.maximum(x,y))\n",
    "print(np.minimum(x,y))\n"
   ]
  },
  {
   "cell_type": "code",
   "execution_count": 43,
   "metadata": {},
   "outputs": [
    {
     "data": {
      "text/plain": [
       "array([0, 0], dtype=int32)"
      ]
     },
     "execution_count": 43,
     "metadata": {},
     "output_type": "execute_result"
    }
   ],
   "source": [
    "#5. mod\n",
    "np.mod(np.array([4,6]),np.array([2,3]))\n"
   ]
  },
  {
   "cell_type": "code",
   "execution_count": 44,
   "metadata": {},
   "outputs": [
    {
     "data": {
      "text/plain": [
       "array([-4., -6.])"
      ]
     },
     "execution_count": 44,
     "metadata": {},
     "output_type": "execute_result"
    }
   ],
   "source": [
    "#6. copysign\n",
    "np.copysign(np.array([4,6]),np.array([-2,-3]))\n"
   ]
  },
  {
   "cell_type": "code",
   "execution_count": 56,
   "metadata": {},
   "outputs": [
    {
     "name": "stdout",
     "output_type": "stream",
     "text": [
      "[False False  True]\n",
      "[ True False False]\n",
      "[ True  True False]\n",
      "[False  True False]\n",
      "[ True False  True]\n"
     ]
    }
   ],
   "source": [
    "#7. greater, greater_equal, less, less_equal, equal, not_equal\n",
    "\n",
    "ar1= np.array([1,6,3])\n",
    "ar2= np.array([5,6,1])\n",
    "\n",
    "print(np.greater(ar1,ar2))\n",
    "print(np.less(ar1,ar2))\n",
    "print(np.less_equal(ar1,ar2))\n",
    "print(np.equal(ar1,ar2))\n",
    "print(np.not_equal(ar1,ar2))\n"
   ]
  },
  {
   "cell_type": "code",
   "execution_count": 51,
   "metadata": {},
   "outputs": [
    {
     "name": "stdout",
     "output_type": "stream",
     "text": [
      "[False False]\n",
      "[ True  True]\n",
      "[False  True]\n"
     ]
    }
   ],
   "source": [
    "#8. logical_and, logical_or, logical_xor\n",
    "\n",
    "print(np.logical_and([0,1],[1,0]))\n",
    "print(np.logical_or([0,1],[1,0]))\n",
    "print(np.logical_xor([1,1],[1,0]))\n"
   ]
  }
 ],
 "metadata": {
  "kernelspec": {
   "display_name": "Python 3",
   "language": "python",
   "name": "python3"
  },
  "language_info": {
   "codemirror_mode": {
    "name": "ipython",
    "version": 3
   },
   "file_extension": ".py",
   "mimetype": "text/x-python",
   "name": "python",
   "nbconvert_exporter": "python",
   "pygments_lexer": "ipython3",
   "version": "3.7.0"
  }
 },
 "nbformat": 4,
 "nbformat_minor": 2
}
