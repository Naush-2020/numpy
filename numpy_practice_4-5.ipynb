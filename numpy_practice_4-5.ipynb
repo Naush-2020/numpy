{
 "cells": [
  {
   "cell_type": "markdown",
   "metadata": {},
   "source": [
    "**Linear Algebra:**\n",
    "1. simple * is element wise, these functions will be according to matrix multiplications etc.\n",
    "\n",
    "2. Dot product: np.dot(x,y) Or x.dot(y). A 2d dot product will result in 2d result whereas if a 2d array is computed dot product with a 1d, result will be 1d. x @ np.ones(3) will work as an infix operator for matrix multiplication.\n",
    "\n",
    "3. For matrix decompositions like inverse and determinant, we import numpy.linalg\n",
    "\n",
    "4. X.T.dot(X) means tranpose of X will be computer dot product with X.\n",
    "\n",
    "5. diag: to get diagonal of a square matrix. For 1D array, it converts it into square matrix with zeros on the off-diagonal.\n",
    "\n",
    "6. trace: compute the sum of diagonal elements\n",
    "\n",
    "7. det: compute the determinant\n",
    "\n",
    "8. eig: compute eigen values\n",
    "\n",
    "9. inv: compute the inverse of a square matrix\n",
    "\n",
    "10. pinv: compute moore-Penrose pseudo-inverse of a matrix\n",
    "\n",
    "11. qr: compute qr decomposition\n",
    "\n",
    "12. svd: compute singular value decomposition\n",
    "\n",
    "13. solve: solve the linear system Ax = b, where A is a square matrix\n",
    "\n",
    "14. lstq: Compute the least-square solution to Ax=b\n",
    "\n"
   ]
  },
  {
   "cell_type": "code",
   "execution_count": 2,
   "metadata": {},
   "outputs": [
    {
     "data": {
      "text/plain": [
       "array([[ 1.21253106e+00,  3.99762190e-01,  5.88841956e-02,\n",
       "         9.08968089e-01, -5.69889997e-01],\n",
       "       [ 8.77096862e-01,  3.78148400e-01, -1.16486652e-03,\n",
       "         7.91740392e-02, -7.38454841e-02],\n",
       "       [-5.28339423e-01,  1.43299669e-01, -2.56109978e-01,\n",
       "        -4.63535756e-01, -8.94065090e-02],\n",
       "       [-6.82796804e-02,  1.77808631e-02,  1.73354384e-02,\n",
       "        -2.16379572e-02,  6.63260887e-01],\n",
       "       [-2.77478500e+00, -1.67609519e-01,  1.07988012e+00,\n",
       "        -1.20479549e+00,  1.41463898e+00]])"
      ]
     },
     "execution_count": 2,
     "metadata": {},
     "output_type": "execute_result"
    }
   ],
   "source": [
    "import numpy as np\n",
    "from numpy.linalg import inv, qr\n",
    "\n",
    "X = np.random.randn(5,5)\n",
    "inv(X)"
   ]
  }
 ],
 "metadata": {
  "kernelspec": {
   "display_name": "Python 3",
   "language": "python",
   "name": "python3"
  },
  "language_info": {
   "codemirror_mode": {
    "name": "ipython",
    "version": 3
   },
   "file_extension": ".py",
   "mimetype": "text/x-python",
   "name": "python",
   "nbconvert_exporter": "python",
   "pygments_lexer": "ipython3",
   "version": "3.7.0"
  }
 },
 "nbformat": 4,
 "nbformat_minor": 2
}
